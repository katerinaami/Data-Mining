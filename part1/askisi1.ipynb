{
 "cells": [
  {
   "cell_type": "code",
   "execution_count": 12,
   "metadata": {},
   "outputs": [],
   "source": [
    "import pandas as pd\n",
    "from pathlib import Path\n",
    "import os"
   ]
  },
  {
   "cell_type": "markdown",
   "metadata": {},
   "source": [
    "<b> Demand CSV Files </b>"
   ]
  },
  {
   "cell_type": "code",
   "execution_count": 33,
   "metadata": {},
   "outputs": [
    {
     "name": "stdout",
     "output_type": "stream",
     "text": [
      "      Time  Day ahead forecast  Hour ahead forecast  Current demand\n",
      "0    00:00             26178.0              26307.0         26091.0\n",
      "1    00:05             24932.0              25930.0         25953.0\n",
      "2    00:10             24932.0              25930.0         25879.0\n",
      "3    00:15             24932.0              25930.0         25713.0\n",
      "4    00:20             24932.0              25599.0         25576.0\n",
      "..     ...                 ...                  ...             ...\n",
      "284  23:40             24623.0              23758.0         23858.0\n",
      "285  23:45             24623.0              23758.0         23712.0\n",
      "286  23:50             24623.0              23357.0         23570.0\n",
      "287  23:55             24623.0              23357.0         23402.0\n",
      "288  00:00             24623.0              23357.0         23402.0\n",
      "\n",
      "[315720 rows x 4 columns]\n"
     ]
    }
   ],
   "source": [
    "# path of csv stored files\n",
    "dir1 = Path(\"/home/marios/data_mining/project_mining_2022/part1/demand\")\n",
    "\n",
    "# concatenate csv files of demand folder\n",
    "demand = (pd.read_csv(file, engine='python') for file in dir1.glob(\"*.csv\") if os.stat(file).st_size!=0) # βρέθηκαν κενά csv\n",
    "demand = pd.concat(demand)\n",
    "\n",
    "# preprocess of dataframe demand\n",
    "\n",
    "#remove duplicates\n",
    "demand.drop_duplicates(inplace = True)\n",
    "\n",
    "#remove rows containing NULL values \n",
    "demand.dropna(inplace = True)"
   ]
  },
  {
   "cell_type": "markdown",
   "metadata": {},
   "source": [
    "<b> Sources CSV Files </b>"
   ]
  },
  {
   "cell_type": "code",
   "execution_count": 61,
   "metadata": {},
   "outputs": [
    {
     "name": "stdout",
     "output_type": "stream",
     "text": [
      "         time  solar    wind  geothermal  biomass  biogas  small hydro  coal  \\\n",
      "0       00:00  -39.0  2792.0       901.0    348.0   213.0        277.0  10.0   \n",
      "1       00:05  -39.0  2793.0       900.0    349.0   213.0        273.0  10.0   \n",
      "2       00:10  -39.0  2791.0       899.0    348.0   213.0        273.0  10.0   \n",
      "3       00:15  -39.0  2805.0       900.0    349.0   213.0        273.0  10.0   \n",
      "4       00:20  -39.0  2806.0       900.0    350.0   213.0        273.0  11.0   \n",
      "...       ...    ...     ...         ...      ...     ...          ...   ...   \n",
      "315636  23:35  -31.0   763.0       850.0    252.0   201.0        106.0  19.0   \n",
      "315637  23:40  -31.0   736.0       849.0    253.0   201.0        106.0  19.0   \n",
      "315638  23:45  -31.0   714.0       849.0    252.0   201.0        106.0  18.0   \n",
      "315639  23:50  -30.0   697.0       850.0    251.0   201.0        106.0  19.0   \n",
      "315640  23:55  -30.0   686.0       850.0    247.0   201.0        106.0  19.0   \n",
      "\n",
      "        nuclear  natural gas  large hydro  batteries  imports  other  \n",
      "0        2263.0       8571.0       1947.0      -20.0   9090.0    0.0  \n",
      "1        2264.0       8768.0       1731.0       13.0   8980.0    0.0  \n",
      "2        2265.0       8775.0       1737.0       18.0   8952.0    0.0  \n",
      "3        2264.0       8638.0       1727.0       20.0   8904.0    0.0  \n",
      "4        2264.0       8596.0       1724.0       20.0   8828.0    0.0  \n",
      "...         ...          ...          ...        ...      ...    ...  \n",
      "315636   2266.0      11679.0       1273.0      -19.0   6877.0    0.0  \n",
      "315637   2267.0      11503.0       1268.0      -11.0   6914.0    0.0  \n",
      "315638   2266.0      11383.0       1259.0      -25.0   6913.0    0.0  \n",
      "315639   2267.0      11290.0       1249.0      -60.0   6938.0    0.0  \n",
      "315640   2266.0      11210.0       1241.0      -81.0   6929.0    0.0  \n",
      "\n",
      "[315626 rows x 14 columns]\n"
     ]
    }
   ],
   "source": [
    "os.chdir(\"/home/marios/data_mining/project_mining_2022/part1/sources\")\n",
    "\n",
    "files = os.listdir()\n",
    "\n",
    "li = [] \n",
    "\n",
    "for file in files:\n",
    "    if os.stat(file).st_size!=0:\n",
    "        df = pd.read_csv(file, index_col = None, header = 0)\n",
    "        df.columns = map(str.lower, df.columns) \n",
    "        li.append(df)\n",
    "\n",
    "sources = pd.concat(li, axis = 0, ignore_index = True)\n",
    "\n",
    "#remove duplicates\n",
    "sources.drop_duplicates(inplace = True)\n",
    "\n",
    "#remove rows containing NULL values \n",
    "demand.dropna(inplace = True)"
   ]
  },
  {
   "cell_type": "code",
   "execution_count": 62,
   "metadata": {},
   "outputs": [
    {
     "name": "stdout",
     "output_type": "stream",
     "text": [
      "Day ahead forecast     24955.611653\n",
      "Hour ahead forecast    24840.449693\n",
      "Current demand         24827.251169\n",
      "dtype: float64\n"
     ]
    }
   ],
   "source": [
    "# average of each column\n",
    "df2 = demand.mean(axis=0)\n",
    "print(df2)"
   ]
  },
  {
   "cell_type": "code",
   "execution_count": 63,
   "metadata": {},
   "outputs": [
    {
     "name": "stdout",
     "output_type": "stream",
     "text": [
      "Day ahead forecast     4949.948501\n",
      "Hour ahead forecast    4854.372800\n",
      "Current demand         4865.897339\n",
      "dtype: float64\n"
     ]
    }
   ],
   "source": [
    "# standard deviation of each column\n",
    "df1 = demand.std()\n",
    "print(df1)"
   ]
  },
  {
   "cell_type": "code",
   "execution_count": 64,
   "metadata": {},
   "outputs": [
    {
     "name": "stdout",
     "output_type": "stream",
     "text": [
      "Day ahead forecast     23954.0\n",
      "Hour ahead forecast    23888.0\n",
      "Current demand         23870.0\n",
      "dtype: float64\n"
     ]
    }
   ],
   "source": [
    "df3 = demand.median()\n",
    "print(df3)"
   ]
  },
  {
   "cell_type": "code",
   "execution_count": 68,
   "metadata": {},
   "outputs": [
    {
     "ename": "TypeError",
     "evalue": "Cannot interpret '<attribute 'dtype' of 'numpy.generic' objects>' as a data type",
     "output_type": "error",
     "traceback": [
      "\u001b[0;31m---------------------------------------------------------------------------\u001b[0m",
      "\u001b[0;31mTypeError\u001b[0m                                 Traceback (most recent call last)",
      "\u001b[1;32m/home/marios/data_mining/project_mining_2022/part1/askisi1.ipynb Cell 9'\u001b[0m in \u001b[0;36m<cell line: 1>\u001b[0;34m()\u001b[0m\n\u001b[0;32m----> <a href='vscode-notebook-cell:/home/marios/data_mining/project_mining_2022/part1/askisi1.ipynb#ch0000014?line=0'>1</a>\u001b[0m demand\u001b[39m.\u001b[39;49mplot(x \u001b[39m=\u001b[39;49m \u001b[39m'\u001b[39;49m\u001b[39mCurrent demand\u001b[39;49m\u001b[39m'\u001b[39;49m, y \u001b[39m=\u001b[39;49m \u001b[39m'\u001b[39;49m\u001b[39mDay ahead forecast\u001b[39;49m\u001b[39m'\u001b[39;49m, kind \u001b[39m=\u001b[39;49m \u001b[39m'\u001b[39;49m\u001b[39mscatter\u001b[39;49m\u001b[39m'\u001b[39;49m)\n",
      "File \u001b[0;32m/usr/lib/python3/dist-packages/pandas/plotting/_core.py:738\u001b[0m, in \u001b[0;36mPlotAccessor.__call__\u001b[0;34m(self, *args, **kwargs)\u001b[0m\n\u001b[1;32m    <a href='file:///usr/lib/python3/dist-packages/pandas/plotting/_core.py?line=735'>736</a>\u001b[0m \u001b[39mif\u001b[39;00m kind \u001b[39min\u001b[39;00m \u001b[39mself\u001b[39m\u001b[39m.\u001b[39m_dataframe_kinds:\n\u001b[1;32m    <a href='file:///usr/lib/python3/dist-packages/pandas/plotting/_core.py?line=736'>737</a>\u001b[0m     \u001b[39mif\u001b[39;00m \u001b[39misinstance\u001b[39m(data, ABCDataFrame):\n\u001b[0;32m--> <a href='file:///usr/lib/python3/dist-packages/pandas/plotting/_core.py?line=737'>738</a>\u001b[0m         \u001b[39mreturn\u001b[39;00m plot_backend\u001b[39m.\u001b[39;49mplot(data, x\u001b[39m=\u001b[39;49mx, y\u001b[39m=\u001b[39;49my, kind\u001b[39m=\u001b[39;49mkind, \u001b[39m*\u001b[39;49m\u001b[39m*\u001b[39;49mkwargs)\n\u001b[1;32m    <a href='file:///usr/lib/python3/dist-packages/pandas/plotting/_core.py?line=738'>739</a>\u001b[0m     \u001b[39melse\u001b[39;00m:\n\u001b[1;32m    <a href='file:///usr/lib/python3/dist-packages/pandas/plotting/_core.py?line=739'>740</a>\u001b[0m         \u001b[39mraise\u001b[39;00m \u001b[39mValueError\u001b[39;00m(\n\u001b[1;32m    <a href='file:///usr/lib/python3/dist-packages/pandas/plotting/_core.py?line=740'>741</a>\u001b[0m             (\u001b[39m\"\u001b[39m\u001b[39mplot kind \u001b[39m\u001b[39m{}\u001b[39;00m\u001b[39m can only be used for \u001b[39m\u001b[39m\"\u001b[39m \u001b[39m\"\u001b[39m\u001b[39mdata frames\u001b[39m\u001b[39m\"\u001b[39m)\u001b[39m.\u001b[39mformat(kind)\n\u001b[1;32m    <a href='file:///usr/lib/python3/dist-packages/pandas/plotting/_core.py?line=741'>742</a>\u001b[0m         )\n",
      "File \u001b[0;32m/usr/lib/python3/dist-packages/pandas/plotting/_matplotlib/__init__.py:62\u001b[0m, in \u001b[0;36mplot\u001b[0;34m(data, kind, **kwargs)\u001b[0m\n\u001b[1;32m     <a href='file:///usr/lib/python3/dist-packages/pandas/plotting/_matplotlib/__init__.py?line=59'>60</a>\u001b[0m         kwargs[\u001b[39m\"\u001b[39m\u001b[39max\u001b[39m\u001b[39m\"\u001b[39m] \u001b[39m=\u001b[39m \u001b[39mgetattr\u001b[39m(ax, \u001b[39m\"\u001b[39m\u001b[39mleft_ax\u001b[39m\u001b[39m\"\u001b[39m, ax)\n\u001b[1;32m     <a href='file:///usr/lib/python3/dist-packages/pandas/plotting/_matplotlib/__init__.py?line=60'>61</a>\u001b[0m plot_obj \u001b[39m=\u001b[39m PLOT_CLASSES[kind](data, \u001b[39m*\u001b[39m\u001b[39m*\u001b[39mkwargs)\n\u001b[0;32m---> <a href='file:///usr/lib/python3/dist-packages/pandas/plotting/_matplotlib/__init__.py?line=61'>62</a>\u001b[0m plot_obj\u001b[39m.\u001b[39;49mgenerate()\n\u001b[1;32m     <a href='file:///usr/lib/python3/dist-packages/pandas/plotting/_matplotlib/__init__.py?line=62'>63</a>\u001b[0m plot_obj\u001b[39m.\u001b[39mdraw()\n\u001b[1;32m     <a href='file:///usr/lib/python3/dist-packages/pandas/plotting/_matplotlib/__init__.py?line=63'>64</a>\u001b[0m \u001b[39mreturn\u001b[39;00m plot_obj\u001b[39m.\u001b[39mresult\n",
      "File \u001b[0;32m/usr/lib/python3/dist-packages/pandas/plotting/_matplotlib/core.py:279\u001b[0m, in \u001b[0;36mMPLPlot.generate\u001b[0;34m(self)\u001b[0m\n\u001b[1;32m    <a href='file:///usr/lib/python3/dist-packages/pandas/plotting/_matplotlib/core.py?line=276'>277</a>\u001b[0m \u001b[39mdef\u001b[39;00m \u001b[39mgenerate\u001b[39m(\u001b[39mself\u001b[39m):\n\u001b[1;32m    <a href='file:///usr/lib/python3/dist-packages/pandas/plotting/_matplotlib/core.py?line=277'>278</a>\u001b[0m     \u001b[39mself\u001b[39m\u001b[39m.\u001b[39m_args_adjust()\n\u001b[0;32m--> <a href='file:///usr/lib/python3/dist-packages/pandas/plotting/_matplotlib/core.py?line=278'>279</a>\u001b[0m     \u001b[39mself\u001b[39;49m\u001b[39m.\u001b[39;49m_compute_plot_data()\n\u001b[1;32m    <a href='file:///usr/lib/python3/dist-packages/pandas/plotting/_matplotlib/core.py?line=279'>280</a>\u001b[0m     \u001b[39mself\u001b[39m\u001b[39m.\u001b[39m_setup_subplots()\n\u001b[1;32m    <a href='file:///usr/lib/python3/dist-packages/pandas/plotting/_matplotlib/core.py?line=280'>281</a>\u001b[0m     \u001b[39mself\u001b[39m\u001b[39m.\u001b[39m_make_plot()\n",
      "File \u001b[0;32m/usr/lib/python3/dist-packages/pandas/plotting/_matplotlib/core.py:403\u001b[0m, in \u001b[0;36mMPLPlot._compute_plot_data\u001b[0;34m(self)\u001b[0m\n\u001b[1;32m    <a href='file:///usr/lib/python3/dist-packages/pandas/plotting/_matplotlib/core.py?line=399'>400</a>\u001b[0m \u001b[39m# GH16953, _convert is needed as fallback, for ``Series``\u001b[39;00m\n\u001b[1;32m    <a href='file:///usr/lib/python3/dist-packages/pandas/plotting/_matplotlib/core.py?line=400'>401</a>\u001b[0m \u001b[39m# with ``dtype == object``\u001b[39;00m\n\u001b[1;32m    <a href='file:///usr/lib/python3/dist-packages/pandas/plotting/_matplotlib/core.py?line=401'>402</a>\u001b[0m data \u001b[39m=\u001b[39m data\u001b[39m.\u001b[39m_convert(datetime\u001b[39m=\u001b[39m\u001b[39mTrue\u001b[39;00m, timedelta\u001b[39m=\u001b[39m\u001b[39mTrue\u001b[39;00m)\n\u001b[0;32m--> <a href='file:///usr/lib/python3/dist-packages/pandas/plotting/_matplotlib/core.py?line=402'>403</a>\u001b[0m numeric_data \u001b[39m=\u001b[39m data\u001b[39m.\u001b[39;49mselect_dtypes(\n\u001b[1;32m    <a href='file:///usr/lib/python3/dist-packages/pandas/plotting/_matplotlib/core.py?line=403'>404</a>\u001b[0m     include\u001b[39m=\u001b[39;49m[np\u001b[39m.\u001b[39;49mnumber, \u001b[39m\"\u001b[39;49m\u001b[39mdatetime\u001b[39;49m\u001b[39m\"\u001b[39;49m, \u001b[39m\"\u001b[39;49m\u001b[39mdatetimetz\u001b[39;49m\u001b[39m\"\u001b[39;49m, \u001b[39m\"\u001b[39;49m\u001b[39mtimedelta\u001b[39;49m\u001b[39m\"\u001b[39;49m]\n\u001b[1;32m    <a href='file:///usr/lib/python3/dist-packages/pandas/plotting/_matplotlib/core.py?line=404'>405</a>\u001b[0m )\n\u001b[1;32m    <a href='file:///usr/lib/python3/dist-packages/pandas/plotting/_matplotlib/core.py?line=406'>407</a>\u001b[0m \u001b[39mtry\u001b[39;00m:\n\u001b[1;32m    <a href='file:///usr/lib/python3/dist-packages/pandas/plotting/_matplotlib/core.py?line=407'>408</a>\u001b[0m     is_empty \u001b[39m=\u001b[39m numeric_data\u001b[39m.\u001b[39mempty\n",
      "File \u001b[0;32m/usr/lib/python3/dist-packages/pandas/core/frame.py:3442\u001b[0m, in \u001b[0;36mDataFrame.select_dtypes\u001b[0;34m(self, include, exclude)\u001b[0m\n\u001b[1;32m   <a href='file:///usr/lib/python3/dist-packages/pandas/core/frame.py?line=3424'>3425</a>\u001b[0m     \u001b[39mraise\u001b[39;00m \u001b[39mValueError\u001b[39;00m(\n\u001b[1;32m   <a href='file:///usr/lib/python3/dist-packages/pandas/core/frame.py?line=3425'>3426</a>\u001b[0m         \u001b[39m\"\u001b[39m\u001b[39minclude and exclude overlap on \u001b[39m\u001b[39m{inc_ex}\u001b[39;00m\u001b[39m\"\u001b[39m\u001b[39m.\u001b[39mformat(\n\u001b[1;32m   <a href='file:///usr/lib/python3/dist-packages/pandas/core/frame.py?line=3426'>3427</a>\u001b[0m             inc_ex\u001b[39m=\u001b[39m(include \u001b[39m&\u001b[39m exclude)\n\u001b[1;32m   <a href='file:///usr/lib/python3/dist-packages/pandas/core/frame.py?line=3427'>3428</a>\u001b[0m         )\n\u001b[1;32m   <a href='file:///usr/lib/python3/dist-packages/pandas/core/frame.py?line=3428'>3429</a>\u001b[0m     )\n\u001b[1;32m   <a href='file:///usr/lib/python3/dist-packages/pandas/core/frame.py?line=3430'>3431</a>\u001b[0m \u001b[39m# empty include/exclude -> defaults to True\u001b[39;00m\n\u001b[1;32m   <a href='file:///usr/lib/python3/dist-packages/pandas/core/frame.py?line=3431'>3432</a>\u001b[0m \u001b[39m# three cases (we've already raised if both are empty)\u001b[39;00m\n\u001b[1;32m   <a href='file:///usr/lib/python3/dist-packages/pandas/core/frame.py?line=3432'>3433</a>\u001b[0m \u001b[39m# case 1: empty include, nonempty exclude\u001b[39;00m\n\u001b[0;32m   (...)\u001b[0m\n\u001b[1;32m   <a href='file:///usr/lib/python3/dist-packages/pandas/core/frame.py?line=3439'>3440</a>\u001b[0m \u001b[39m# the \"union\" of the logic of case 1 and case 2:\u001b[39;00m\n\u001b[1;32m   <a href='file:///usr/lib/python3/dist-packages/pandas/core/frame.py?line=3440'>3441</a>\u001b[0m \u001b[39m# we get the included and excluded, and return their logical and\u001b[39;00m\n\u001b[0;32m-> <a href='file:///usr/lib/python3/dist-packages/pandas/core/frame.py?line=3441'>3442</a>\u001b[0m include_these \u001b[39m=\u001b[39m Series(\u001b[39mnot\u001b[39;49;00m \u001b[39mbool\u001b[39;49m(include), index\u001b[39m=\u001b[39;49m\u001b[39mself\u001b[39;49m\u001b[39m.\u001b[39;49mcolumns)\n\u001b[1;32m   <a href='file:///usr/lib/python3/dist-packages/pandas/core/frame.py?line=3442'>3443</a>\u001b[0m exclude_these \u001b[39m=\u001b[39m Series(\u001b[39mnot\u001b[39;00m \u001b[39mbool\u001b[39m(exclude), index\u001b[39m=\u001b[39m\u001b[39mself\u001b[39m\u001b[39m.\u001b[39mcolumns)\n\u001b[1;32m   <a href='file:///usr/lib/python3/dist-packages/pandas/core/frame.py?line=3444'>3445</a>\u001b[0m \u001b[39mdef\u001b[39;00m \u001b[39mis_dtype_instance_mapper\u001b[39m(idx, dtype):\n",
      "File \u001b[0;32m/usr/lib/python3/dist-packages/pandas/core/series.py:314\u001b[0m, in \u001b[0;36mSeries.__init__\u001b[0;34m(self, data, index, dtype, name, copy, fastpath)\u001b[0m\n\u001b[1;32m    <a href='file:///usr/lib/python3/dist-packages/pandas/core/series.py?line=311'>312</a>\u001b[0m             data \u001b[39m=\u001b[39m data\u001b[39m.\u001b[39mcopy()\n\u001b[1;32m    <a href='file:///usr/lib/python3/dist-packages/pandas/core/series.py?line=312'>313</a>\u001b[0m     \u001b[39melse\u001b[39;00m:\n\u001b[0;32m--> <a href='file:///usr/lib/python3/dist-packages/pandas/core/series.py?line=313'>314</a>\u001b[0m         data \u001b[39m=\u001b[39m sanitize_array(data, index, dtype, copy, raise_cast_failure\u001b[39m=\u001b[39;49m\u001b[39mTrue\u001b[39;49;00m)\n\u001b[1;32m    <a href='file:///usr/lib/python3/dist-packages/pandas/core/series.py?line=315'>316</a>\u001b[0m         data \u001b[39m=\u001b[39m SingleBlockManager(data, index, fastpath\u001b[39m=\u001b[39m\u001b[39mTrue\u001b[39;00m)\n\u001b[1;32m    <a href='file:///usr/lib/python3/dist-packages/pandas/core/series.py?line=317'>318</a>\u001b[0m generic\u001b[39m.\u001b[39mNDFrame\u001b[39m.\u001b[39m\u001b[39m__init__\u001b[39m(\u001b[39mself\u001b[39m, data, fastpath\u001b[39m=\u001b[39m\u001b[39mTrue\u001b[39;00m)\n",
      "File \u001b[0;32m/usr/lib/python3/dist-packages/pandas/core/internals/construction.py:712\u001b[0m, in \u001b[0;36msanitize_array\u001b[0;34m(data, index, dtype, copy, raise_cast_failure)\u001b[0m\n\u001b[1;32m    <a href='file:///usr/lib/python3/dist-packages/pandas/core/internals/construction.py?line=707'>708</a>\u001b[0m     \u001b[39melse\u001b[39;00m:\n\u001b[1;32m    <a href='file:///usr/lib/python3/dist-packages/pandas/core/internals/construction.py?line=708'>709</a>\u001b[0m         \u001b[39m# need to possibly convert the value here\u001b[39;00m\n\u001b[1;32m    <a href='file:///usr/lib/python3/dist-packages/pandas/core/internals/construction.py?line=709'>710</a>\u001b[0m         value \u001b[39m=\u001b[39m maybe_cast_to_datetime(value, dtype)\n\u001b[0;32m--> <a href='file:///usr/lib/python3/dist-packages/pandas/core/internals/construction.py?line=711'>712</a>\u001b[0m     subarr \u001b[39m=\u001b[39m construct_1d_arraylike_from_scalar(value, \u001b[39mlen\u001b[39;49m(index), dtype)\n\u001b[1;32m    <a href='file:///usr/lib/python3/dist-packages/pandas/core/internals/construction.py?line=713'>714</a>\u001b[0m \u001b[39melse\u001b[39;00m:\n\u001b[1;32m    <a href='file:///usr/lib/python3/dist-packages/pandas/core/internals/construction.py?line=714'>715</a>\u001b[0m     \u001b[39mreturn\u001b[39;00m subarr\u001b[39m.\u001b[39mitem()\n",
      "File \u001b[0;32m/usr/lib/python3/dist-packages/pandas/core/dtypes/cast.py:1241\u001b[0m, in \u001b[0;36mconstruct_1d_arraylike_from_scalar\u001b[0;34m(value, length, dtype)\u001b[0m\n\u001b[1;32m   <a href='file:///usr/lib/python3/dist-packages/pandas/core/dtypes/cast.py?line=1237'>1238</a>\u001b[0m         \u001b[39mif\u001b[39;00m \u001b[39mnot\u001b[39;00m isna(value):\n\u001b[1;32m   <a href='file:///usr/lib/python3/dist-packages/pandas/core/dtypes/cast.py?line=1238'>1239</a>\u001b[0m             value \u001b[39m=\u001b[39m ensure_str(value)\n\u001b[0;32m-> <a href='file:///usr/lib/python3/dist-packages/pandas/core/dtypes/cast.py?line=1240'>1241</a>\u001b[0m     subarr \u001b[39m=\u001b[39m np\u001b[39m.\u001b[39;49mempty(length, dtype\u001b[39m=\u001b[39;49mdtype)\n\u001b[1;32m   <a href='file:///usr/lib/python3/dist-packages/pandas/core/dtypes/cast.py?line=1241'>1242</a>\u001b[0m     subarr\u001b[39m.\u001b[39mfill(value)\n\u001b[1;32m   <a href='file:///usr/lib/python3/dist-packages/pandas/core/dtypes/cast.py?line=1243'>1244</a>\u001b[0m \u001b[39mreturn\u001b[39;00m subarr\n",
      "\u001b[0;31mTypeError\u001b[0m: Cannot interpret '<attribute 'dtype' of 'numpy.generic' objects>' as a data type"
     ]
    }
   ],
   "source": [
    "demand.plot(x = 'Current demand', y = 'Day ahead forecast', kind = 'scatter')"
   ]
  }
 ],
 "metadata": {
  "interpreter": {
   "hash": "916dbcbb3f70747c44a77c7bcd40155683ae19c65e1c03b4aa3499c5328201f1"
  },
  "kernelspec": {
   "display_name": "Python 3.8.10 64-bit",
   "language": "python",
   "name": "python3"
  },
  "language_info": {
   "codemirror_mode": {
    "name": "ipython",
    "version": 3
   },
   "file_extension": ".py",
   "mimetype": "text/x-python",
   "name": "python",
   "nbconvert_exporter": "python",
   "pygments_lexer": "ipython3",
   "version": "3.8.10"
  },
  "orig_nbformat": 4
 },
 "nbformat": 4,
 "nbformat_minor": 2
}
